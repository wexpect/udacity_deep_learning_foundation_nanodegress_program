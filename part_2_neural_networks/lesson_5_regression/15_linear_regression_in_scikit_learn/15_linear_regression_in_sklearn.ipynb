{
 "cells": [
  {
   "cell_type": "markdown",
   "metadata": {},
   "source": [
    "# gapminder1.py"
   ]
  },
  {
   "cell_type": "code",
   "execution_count": 23,
   "metadata": {},
   "outputs": [
    {
     "name": "stdout",
     "output_type": "stream",
     "text": [
      "laos_life_exp [[ 60.31564716]]\n"
     ]
    }
   ],
   "source": [
    "# TODO: Add import statements\n",
    "from sklearn.linear_model import LinearRegression\n",
    "import pandas as pd\n",
    "\n",
    "# Assign the dataframe to this variable.\n",
    "# TODO: Load the data\n",
    "bmi_life_data = pd.read_csv('bmi_and_life_expectancy.csv')\n",
    "\n",
    "# Make and fit the linear regression model\n",
    "#TODO: Fit the model and Assign it to bmi_life_model\n",
    "bmi_life_model = LinearRegression()\n",
    "X = bmi_life_data[['BMI']].values\n",
    "y = bmi_life_data[['Life expectancy']].values\n",
    "bmi_life_model.fit(X, y)\n",
    "\n",
    "# Mak a prediction using the model\n",
    "# TODO: Predict life expectancy for a BMI value of 21.07931\n",
    "laos_life_exp = bmi_life_model.predict([[21.07931]])\n",
    "print('laos_life_exp', laos_life_exp)"
   ]
  },
  {
   "cell_type": "code",
   "execution_count": 8,
   "metadata": {},
   "outputs": [
    {
     "data": {
      "text/html": [
       "<div>\n",
       "<style scoped>\n",
       "    .dataframe tbody tr th:only-of-type {\n",
       "        vertical-align: middle;\n",
       "    }\n",
       "\n",
       "    .dataframe tbody tr th {\n",
       "        vertical-align: top;\n",
       "    }\n",
       "\n",
       "    .dataframe thead th {\n",
       "        text-align: right;\n",
       "    }\n",
       "</style>\n",
       "<table border=\"1\" class=\"dataframe\">\n",
       "  <thead>\n",
       "    <tr style=\"text-align: right;\">\n",
       "      <th></th>\n",
       "      <th>Country</th>\n",
       "      <th>Life expectancy</th>\n",
       "      <th>BMI</th>\n",
       "    </tr>\n",
       "  </thead>\n",
       "  <tbody>\n",
       "    <tr>\n",
       "      <th>0</th>\n",
       "      <td>Afghanistan</td>\n",
       "      <td>52.8</td>\n",
       "      <td>20.62058</td>\n",
       "    </tr>\n",
       "    <tr>\n",
       "      <th>1</th>\n",
       "      <td>Albania</td>\n",
       "      <td>76.8</td>\n",
       "      <td>26.44657</td>\n",
       "    </tr>\n",
       "    <tr>\n",
       "      <th>2</th>\n",
       "      <td>Algeria</td>\n",
       "      <td>75.5</td>\n",
       "      <td>24.59620</td>\n",
       "    </tr>\n",
       "    <tr>\n",
       "      <th>3</th>\n",
       "      <td>Andorra</td>\n",
       "      <td>84.6</td>\n",
       "      <td>27.63048</td>\n",
       "    </tr>\n",
       "    <tr>\n",
       "      <th>4</th>\n",
       "      <td>Angola</td>\n",
       "      <td>56.7</td>\n",
       "      <td>22.25083</td>\n",
       "    </tr>\n",
       "  </tbody>\n",
       "</table>\n",
       "</div>"
      ],
      "text/plain": [
       "       Country  Life expectancy       BMI\n",
       "0  Afghanistan             52.8  20.62058\n",
       "1      Albania             76.8  26.44657\n",
       "2      Algeria             75.5  24.59620\n",
       "3      Andorra             84.6  27.63048\n",
       "4       Angola             56.7  22.25083"
      ]
     },
     "execution_count": 8,
     "metadata": {},
     "output_type": "execute_result"
    }
   ],
   "source": [
    "bmi_life_data.head()"
   ]
  },
  {
   "cell_type": "code",
   "execution_count": 18,
   "metadata": {},
   "outputs": [
    {
     "data": {
      "text/plain": [
       "array([ 52.8 ,  76.8 ,  75.5 ,  84.6 ,  56.7 ,  72.3 ,  81.6 ,  80.4 ,\n",
       "        69.2 ,  72.2 ,  68.3 ,  75.3 ,  70.  ,  79.6 ,  70.7 ,  59.7 ,\n",
       "        70.7 ,  71.2 ,  77.5 ,  53.2 ,  73.2 ,  73.2 ,  58.  ,  59.1 ,\n",
       "        66.1 ,  56.6 ,  80.8 ,  70.4 ,  54.3 ,  78.5 ,  73.4 ,  76.2 ,\n",
       "        67.1 ,  57.5 ,  58.8 ,  79.8 ,  55.4 ,  76.2 ,  77.6 ,  80.  ,\n",
       "        78.9 ,  61.8 ,  74.7 ,  70.2 ,  73.7 ,  60.1 ,  74.2 ,  60.  ,\n",
       "        64.9 ,  79.6 ,  81.1 ,  75.11,  61.7 ,  65.7 ,  71.8 ,  80.  ,\n",
       "        62.  ,  80.2 ,  70.3 ,  70.8 ,  71.2 ,  57.1 ,  53.6 ,  65.  ,\n",
       "        61.  ,  71.8 ,  73.9 ,  82.4 ,  64.7 ,  69.4 ,  73.1 ,  66.6 ,\n",
       "        80.1 ,  80.6 ,  75.1 ,  82.5 ,  76.9 ,  67.1 ,  60.8 ,  77.3 ,\n",
       "        72.4 ,  44.5 ,  59.9 ,  75.6 ,  72.1 ,  81.  ,  74.5 ,  62.2 ,\n",
       "        52.4 ,  74.5 ,  78.5 ,  58.5 ,  80.7 ,  65.3 ,  67.9 ,  72.9 ,\n",
       "        75.4 ,  70.4 ,  64.8 ,  76.  ,  73.3 ,  54.  ,  59.4 ,  59.1 ,\n",
       "        68.4 ,  80.3 ,  77.  ,  58.  ,  59.2 ,  80.8 ,  76.2 ,  64.1 ,\n",
       "        77.3 ,  58.6 ,  74.  ,  78.2 ,  69.8 ,  75.4 ,  79.4 ,  77.9 ,\n",
       "        73.2 ,  67.9 ,  64.1 ,  72.3 ,  66.  ,  63.5 ,  74.3 ,  53.6 ,\n",
       "        80.6 ,  74.9 ,  78.7 ,  52.6 ,  53.4 ,  81.1 ,  74.  ,  65.5 ,\n",
       "        70.2 ,  45.1 ,  81.1 ,  82.  ,  76.1 ,  69.6 ,  60.4 ,  73.9 ,\n",
       "        69.9 ,  57.5 ,  70.3 ,  71.7 ,  76.8 ,  77.8 ,  67.2 ,  56.  ,\n",
       "        67.8 ,  75.6 ,  79.7 ,  78.3 ,  76.  ,  69.6 ,  63.4 ,  74.1 ,\n",
       "        74.1 ,  51.1 ,  47.3 ])"
      ]
     },
     "execution_count": 18,
     "metadata": {},
     "output_type": "execute_result"
    }
   ],
   "source": [
    "# bmi_life_data[['Country', 'Life expectancy', 'BMI']].values\n",
    "# bmi_life_data[['BMI']].values\n",
    "bmi_life_data['Life expectancy'].values"
   ]
  },
  {
   "cell_type": "markdown",
   "metadata": {},
   "source": [
    "# solution.py"
   ]
  },
  {
   "cell_type": "code",
   "execution_count": null,
   "metadata": {},
   "outputs": [],
   "source": [
    "# TODO: Add import statements\n",
    "import pandas as pd\n",
    "from sklearn.linear_model import LinearRegression\n",
    "\n",
    "# Assign the dataframe to this variable.\n",
    "# TODO: Load the data\n",
    "bmi_life_data = pd.read_csv(\"bmi_and_life_expectancy.csv\")\n",
    "\n",
    "# Make and fit the linear regression model\n",
    "#TODO: Fit the model and Assign it to bmi_life_model\n",
    "bmi_life_model = LinearRegression()\n",
    "bmi_life_model.fit(bmi_life_data[['BMI']], bmi_life_data[['Life expectancy']])\n",
    "\n",
    "# Mak a prediction using the model\n",
    "# TODO: Predict life expectancy for a BMI value of 21.07931\n",
    "laos_life_exp = bmi_life_model.predict(21.07931)\n"
   ]
  }
 ],
 "metadata": {
  "kernelspec": {
   "display_name": "Python 3",
   "language": "python",
   "name": "python3"
  },
  "language_info": {
   "codemirror_mode": {
    "name": "ipython",
    "version": 3
   },
   "file_extension": ".py",
   "mimetype": "text/x-python",
   "name": "python",
   "nbconvert_exporter": "python",
   "pygments_lexer": "ipython3",
   "version": "3.6.3"
  }
 },
 "nbformat": 4,
 "nbformat_minor": 2
}
