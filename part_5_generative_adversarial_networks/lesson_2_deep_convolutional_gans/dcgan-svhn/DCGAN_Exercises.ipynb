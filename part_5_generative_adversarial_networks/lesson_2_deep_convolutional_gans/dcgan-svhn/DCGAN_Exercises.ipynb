{
 "cells": [
  {
   "cell_type": "markdown",
   "metadata": {},
   "source": [
    "# Deep Convolutional GANs\n",
    "\n",
    "In this notebook, you'll build a GAN using convolutional layers in the generator and discriminator. This is called a Deep Convolutional GAN, or DCGAN for short. The DCGAN architecture was first explored last year and has seen impressive results in generating new images, you can read the [original paper here](https://arxiv.org/pdf/1511.06434.pdf).\n",
    "\n",
    "You'll be training DCGAN on the [Street View House Numbers](http://ufldl.stanford.edu/housenumbers/) (SVHN) dataset. These are color images of house numbers collected from Google street view. SVHN images are in color and much more variable than MNIST. \n",
    "\n",
    "![SVHN Examples](assets/SVHN_examples.png)\n",
    "\n",
    "So, we'll need a deeper and more powerful network. This is accomplished through using convolutional layers in the discriminator and generator. It's also necessary to use batch normalization to get the convolutional networks to train. The only real changes compared to what [you saw previously](https://github.com/udacity/deep-learning/tree/master/gan_mnist) are in the generator and discriminator, otherwise the rest of the implementation is the same."
   ]
  },
  {
   "cell_type": "code",
   "execution_count": 1,
   "metadata": {},
   "outputs": [],
   "source": [
    "%matplotlib inline\n",
    "\n",
    "import pickle as pkl\n",
    "\n",
    "import matplotlib.pyplot as plt\n",
    "import numpy as np\n",
    "from scipy.io import loadmat\n",
    "import tensorflow as tf"
   ]
  },
  {
   "cell_type": "code",
   "execution_count": 2,
   "metadata": {},
   "outputs": [
    {
     "name": "stdout",
     "output_type": "stream",
     "text": [
      "mkdir: data: File exists\r\n"
     ]
    }
   ],
   "source": [
    "!mkdir data"
   ]
  },
  {
   "cell_type": "markdown",
   "metadata": {},
   "source": [
    "## Getting the data\n",
    "\n",
    "Here you can download the SVHN dataset. Run the cell above and it'll download to your machine."
   ]
  },
  {
   "cell_type": "code",
   "execution_count": 3,
   "metadata": {},
   "outputs": [],
   "source": [
    "from urllib.request import urlretrieve\n",
    "from os.path import isfile, isdir\n",
    "from tqdm import tqdm\n",
    "\n",
    "data_dir = 'data/'\n",
    "\n",
    "if not isdir(data_dir):\n",
    "    raise Exception(\"Data directory doesn't exist!\")\n",
    "\n",
    "class DLProgress(tqdm):\n",
    "    last_block = 0\n",
    "\n",
    "    def hook(self, block_num=1, block_size=1, total_size=None):\n",
    "        self.total = total_size\n",
    "        self.update((block_num - self.last_block) * block_size)\n",
    "        self.last_block = block_num\n",
    "\n",
    "if not isfile(data_dir + \"train_32x32.mat\"):\n",
    "    with DLProgress(unit='B', unit_scale=True, miniters=1, desc='SVHN Training Set') as pbar:\n",
    "        urlretrieve(\n",
    "            'http://ufldl.stanford.edu/housenumbers/train_32x32.mat',\n",
    "            data_dir + 'train_32x32.mat',\n",
    "            pbar.hook)\n",
    "\n",
    "if not isfile(data_dir + \"test_32x32.mat\"):\n",
    "    with DLProgress(unit='B', unit_scale=True, miniters=1, desc='SVHN Testing Set') as pbar:\n",
    "        urlretrieve(\n",
    "            'http://ufldl.stanford.edu/housenumbers/test_32x32.mat',\n",
    "            data_dir + 'test_32x32.mat',\n",
    "            pbar.hook)"
   ]
  },
  {
   "cell_type": "markdown",
   "metadata": {},
   "source": [
    "These SVHN files are `.mat` files typically used with Matlab. However, we can load them in with `scipy.io.loadmat` which we imported above."
   ]
  },
  {
   "cell_type": "code",
   "execution_count": 4,
   "metadata": {},
   "outputs": [],
   "source": [
    "trainset = loadmat(data_dir + 'train_32x32.mat')\n",
    "testset = loadmat(data_dir + 'test_32x32.mat')"
   ]
  },
  {
   "cell_type": "code",
   "execution_count": 5,
   "metadata": {},
   "outputs": [
    {
     "data": {
      "text/plain": [
       "{'X': array([[[[ 38, 129, 150, ..., 115,  96, 101],\n",
       "          [103, 142, 160, ..., 132,  65,  75],\n",
       "          [ 60, 153, 169, ..., 142,  47,  60]],\n",
       " \n",
       "         [[ 39, 127, 150, ..., 116,  97, 100],\n",
       "          [104, 143, 163, ..., 133,  65,  73],\n",
       "          [ 61, 152, 170, ..., 143,  49,  60]],\n",
       " \n",
       "         [[ 39, 125, 152, ..., 117,  97,  99],\n",
       "          [104, 143, 168, ..., 134,  65,  71],\n",
       "          [ 62, 151, 172, ..., 144,  50,  59]],\n",
       " \n",
       "         ...,\n",
       " \n",
       "         [[ 41, 121, 153, ..., 114,  86,  95],\n",
       "          [102, 133, 172, ..., 136,  61,  63],\n",
       "          [ 61, 153, 180, ..., 141,  54,  52]],\n",
       " \n",
       "         [[ 42, 123, 150, ..., 114,  87,  95],\n",
       "          [103, 134, 171, ..., 136,  62,  63],\n",
       "          [ 62, 156, 181, ..., 142,  55,  52]],\n",
       " \n",
       "         [[ 39, 123, 147, ..., 115,  88,  96],\n",
       "          [ 97, 135, 169, ..., 136,  63,  64],\n",
       "          [ 57, 157, 180, ..., 143,  56,  51]]],\n",
       " \n",
       " \n",
       "        [[[ 39, 134, 150, ..., 122,  96, 109],\n",
       "          [104, 150, 160, ..., 139,  65,  84],\n",
       "          [ 61, 160, 169, ..., 148,  48,  69]],\n",
       " \n",
       "         [[ 39, 133, 151, ..., 123,  97, 107],\n",
       "          [104, 149, 163, ..., 140,  65,  80],\n",
       "          [ 61, 158, 169, ..., 149,  50,  67]],\n",
       " \n",
       "         [[ 39, 132, 153, ..., 124,  97, 104],\n",
       "          [104, 149, 168, ..., 141,  65,  76],\n",
       "          [ 62, 157, 171, ..., 150,  51,  64]],\n",
       " \n",
       "         ...,\n",
       " \n",
       "         [[ 41, 127, 156, ..., 118,  85,  95],\n",
       "          [102, 138, 174, ..., 139,  62,  62],\n",
       "          [ 61, 157, 180, ..., 143,  53,  53]],\n",
       " \n",
       "         [[ 43, 126, 153, ..., 118,  87,  93],\n",
       "          [101, 137, 171, ..., 139,  63,  61],\n",
       "          [ 63, 157, 180, ..., 145,  54,  50]],\n",
       " \n",
       "         [[ 39, 125, 150, ..., 119,  88,  93],\n",
       "          [ 97, 137, 169, ..., 139,  64,  61],\n",
       "          [ 57, 158, 179, ..., 146,  55,  49]]],\n",
       " \n",
       " \n",
       "        [[[ 38, 141, 144, ..., 131,  96, 117],\n",
       "          [105, 158, 154, ..., 148,  64,  95],\n",
       "          [ 62, 168, 163, ..., 155,  49,  78]],\n",
       " \n",
       "         [[ 37, 140, 146, ..., 132,  96, 114],\n",
       "          [104, 157, 157, ..., 149,  64,  90],\n",
       "          [ 61, 166, 163, ..., 156,  50,  75]],\n",
       " \n",
       "         [[ 39, 140, 148, ..., 133,  96, 108],\n",
       "          [106, 157, 162, ..., 149,  64,  83],\n",
       "          [ 63, 165, 165, ..., 157,  51,  70]],\n",
       " \n",
       "         ...,\n",
       " \n",
       "         [[ 43, 135, 157, ..., 125,  87,  95],\n",
       "          [101, 147, 172, ..., 143,  66,  62],\n",
       "          [ 63, 163, 177, ..., 147,  54,  53]],\n",
       " \n",
       "         [[ 43, 132, 153, ..., 125,  90,  92],\n",
       "          [100, 143, 168, ..., 143,  68,  60],\n",
       "          [ 64, 161, 175, ..., 149,  57,  50]],\n",
       " \n",
       "         [[ 39, 130, 150, ..., 126,  91,  91],\n",
       "          [ 97, 141, 165, ..., 144,  69,  59],\n",
       "          [ 59, 160, 173, ..., 150,  58,  48]]],\n",
       " \n",
       " \n",
       "        ...,\n",
       " \n",
       " \n",
       "        [[[ 52, 147, 135, ...,  94,  99, 116],\n",
       "          [119, 161, 150, ...,  97,  68,  96],\n",
       "          [ 78, 174, 167, ..., 114,  48,  85]],\n",
       " \n",
       "         [[ 53, 142, 134, ...,  93,  99, 116],\n",
       "          [120, 156, 149, ...,  96,  70,  96],\n",
       "          [ 79, 169, 166, ..., 113,  50,  87]],\n",
       " \n",
       "         [[ 51, 136, 132, ...,  92, 100, 115],\n",
       "          [118, 151, 147, ...,  95,  73,  95],\n",
       "          [ 77, 163, 165, ..., 112,  53,  87]],\n",
       " \n",
       "         ...,\n",
       " \n",
       "         [[ 44,  93, 124, ..., 140, 138, 101],\n",
       "          [118,  97, 140, ..., 153, 121,  70],\n",
       "          [ 69, 126, 157, ..., 162, 105,  50]],\n",
       " \n",
       "         [[ 44,  96, 122, ..., 142, 127, 101],\n",
       "          [117, 100, 139, ..., 155, 109,  70],\n",
       "          [ 71, 128, 157, ..., 164,  93,  50]],\n",
       " \n",
       "         [[ 41, 104, 121, ..., 144, 117, 101],\n",
       "          [114, 109, 138, ..., 157,  98,  70],\n",
       "          [ 69, 136, 158, ..., 165,  83,  50]]],\n",
       " \n",
       " \n",
       "        [[[ 50, 138, 147, ..., 117,  98, 104],\n",
       "          [117, 152, 165, ..., 122,  67,  83],\n",
       "          [ 76, 165, 179, ..., 137,  46,  71]],\n",
       " \n",
       "         [[ 51, 130, 147, ..., 117,  99, 105],\n",
       "          [118, 144, 164, ..., 122,  70,  84],\n",
       "          [ 77, 157, 179, ..., 137,  48,  73]],\n",
       " \n",
       "         [[ 49, 121, 147, ..., 118, 100, 105],\n",
       "          [116, 136, 164, ..., 123,  73,  84],\n",
       "          [ 75, 148, 179, ..., 137,  51,  74]],\n",
       " \n",
       "         ...,\n",
       " \n",
       "         [[ 44,  93, 139, ..., 141, 126, 101],\n",
       "          [117,  99, 155, ..., 154, 108,  70],\n",
       "          [ 71, 128, 170, ..., 163,  92,  49]],\n",
       " \n",
       "         [[ 45, 101, 139, ..., 143, 118, 102],\n",
       "          [116, 107, 155, ..., 156,  99,  71],\n",
       "          [ 72, 134, 170, ..., 164,  83,  50]],\n",
       " \n",
       "         [[ 42, 112, 138, ..., 144, 110, 102],\n",
       "          [113, 118, 155, ..., 157,  91,  71],\n",
       "          [ 69, 144, 171, ..., 165,  75,  50]]],\n",
       " \n",
       " \n",
       "        [[[ 48, 131, 159, ..., 132,  97,  95],\n",
       "          [115, 145, 177, ..., 138,  66,  73],\n",
       "          [ 74, 158, 189, ..., 152,  45,  62]],\n",
       " \n",
       "         [[ 48, 122, 159, ..., 133,  99,  96],\n",
       "          [115, 136, 177, ..., 140,  69,  74],\n",
       "          [ 74, 149, 190, ..., 152,  48,  63]],\n",
       " \n",
       "         [[ 46, 111, 159, ..., 135, 100,  97],\n",
       "          [113, 126, 177, ..., 142,  72,  75],\n",
       "          [ 72, 139, 191, ..., 153,  51,  64]],\n",
       " \n",
       "         ...,\n",
       " \n",
       "         [[ 43, 101, 152, ..., 142, 118, 101],\n",
       "          [116, 108, 168, ..., 155,  99,  70],\n",
       "          [ 71, 135, 181, ..., 164,  82,  49]],\n",
       " \n",
       "         [[ 44, 111, 152, ..., 143, 111, 102],\n",
       "          [115, 118, 168, ..., 156,  92,  71],\n",
       "          [ 71, 144, 182, ..., 165,  74,  50]],\n",
       " \n",
       "         [[ 42, 123, 152, ..., 144, 104, 102],\n",
       "          [113, 130, 168, ..., 157,  85,  71],\n",
       "          [ 71, 156, 183, ..., 165,  68,  50]]]], dtype=uint8),\n",
       " '__globals__': [],\n",
       " '__header__': b'MATLAB 5.0 MAT-file, Platform: GLNXA64, Created on: Mon Dec  5 21:18:15 2011',\n",
       " '__version__': '1.0',\n",
       " 'y': array([[5],\n",
       "        [2],\n",
       "        [1],\n",
       "        ...,\n",
       "        [7],\n",
       "        [6],\n",
       "        [7]], dtype=uint8)}"
      ]
     },
     "execution_count": 5,
     "metadata": {},
     "output_type": "execute_result"
    }
   ],
   "source": [
    "testset"
   ]
  },
  {
   "cell_type": "code",
   "execution_count": 6,
   "metadata": {},
   "outputs": [
    {
     "data": {
      "text/plain": [
       "((32, 32, 3, 73257), (32, 32, 3, 26032))"
      ]
     },
     "execution_count": 6,
     "metadata": {},
     "output_type": "execute_result"
    }
   ],
   "source": [
    "trainset['X'].shape, testset['X'].shape"
   ]
  },
  {
   "cell_type": "markdown",
   "metadata": {},
   "source": [
    "Here I'm showing a small sample of the images. Each of these is 32x32 with 3 color channels (RGB). These are the real images we'll pass to the discriminator and what the generator will eventually fake."
   ]
  },
  {
   "cell_type": "code",
   "execution_count": 7,
   "metadata": {},
   "outputs": [
    {
     "data": {
      "image/png": "[encoded data removed]",
      "text/plain": [
       "<Figure size 360x360 with 36 Axes>"
      ]
     },
     "metadata": {},
     "output_type": "display_data"
    }
   ],
   "source": [
    "idx = np.random.randint(0, trainset['X'].shape[3], size=36)\n",
    "fig, axes = plt.subplots(6, 6, sharex=True, sharey=True, figsize=(5,5),)\n",
    "for ii, ax in zip(idx, axes.flatten()):\n",
    "    ax.imshow(trainset['X'][:,:,:,ii], aspect='equal')\n",
    "    ax.xaxis.set_visible(False)\n",
    "    ax.yaxis.set_visible(False)\n",
    "plt.subplots_adjust(wspace=0, hspace=0)"
   ]
  },
  {
   "cell_type": "markdown",
   "metadata": {},
   "source": [
    "Here we need to do a bit of preprocessing and getting the images into a form where we can pass batches to the network. First off, we need to rescale the images to a range of -1 to 1, since the output of our generator is also in that range. We also have a set of test and validation images which could be used if we're trying to identify the numbers in the images."
   ]
  },
  {
   "cell_type": "code",
   "execution_count": 8,
   "metadata": {},
   "outputs": [],
   "source": [
    "def scale(x, feature_range=(-1, 1)):\n",
    "    # scale to (0, 1)\n",
    "    x = ((x - x.min())/(255 - x.min()))\n",
    "    \n",
    "    # scale to feature_range\n",
    "    min, max = feature_range\n",
    "    x = x * (max - min) + min\n",
    "    return x"
   ]
  },
  {
   "cell_type": "code",
   "execution_count": 9,
   "metadata": {},
   "outputs": [],
   "source": [
    "class Dataset:\n",
    "    def __init__(self, train, test, val_frac=0.5, shuffle=False, scale_func=None):\n",
    "        split_idx = int(len(test['y'])*(1 - val_frac))\n",
    "        self.test_x, self.valid_x = test['X'][:,:,:,:split_idx], test['X'][:,:,:,split_idx:]\n",
    "        self.test_y, self.valid_y = test['y'][:split_idx], test['y'][split_idx:]\n",
    "        self.train_x, self.train_y = train['X'], train['y']\n",
    "        \n",
    "        # Rui: move the 4th dimension batch_idx, to the 1th demension\n",
    "        self.train_x = np.rollaxis(self.train_x, 3)  \n",
    "        self.valid_x = np.rollaxis(self.valid_x, 3)\n",
    "        self.test_x = np.rollaxis(self.test_x, 3)\n",
    "        \n",
    "        if scale_func is None:\n",
    "            self.scaler = scale\n",
    "        else:\n",
    "            self.scaler = scale_func\n",
    "            \n",
    "        self.shuffle = shuffle\n",
    "        \n",
    "    def batches(self, batch_size):\n",
    "        if self.shuffle:\n",
    "            idx = np.arange(len(dataset.train_x))\n",
    "            np.random.shuffle(idx)\n",
    "            self.train_x = self.train_x[idx]\n",
    "            self.train_y = self.train_y[idx]\n",
    "        \n",
    "        n_batches = len(self.train_y)//batch_size\n",
    "        for ii in range(0, len(self.train_y), batch_size):\n",
    "            x = self.train_x[ii:ii+batch_size]\n",
    "            y = self.train_y[ii:ii+batch_size]\n",
    "            \n",
    "            yield self.scaler(x), y"
   ]
  },
  {
   "cell_type": "markdown",
   "metadata": {},
   "source": [
    "## Network Inputs\n",
    "\n",
    "Here, just creating some placeholders like normal."
   ]
  },
  {
   "cell_type": "code",
   "execution_count": 10,
   "metadata": {},
   "outputs": [],
   "source": [
    "def model_inputs(real_dim, z_dim):\n",
    "    inputs_real = tf.placeholder(tf.float32, (None, *real_dim), name='input_real')\n",
    "    inputs_z = tf.placeholder(tf.float32, (None, z_dim), name='input_z')\n",
    "    \n",
    "    return inputs_real, inputs_z"
   ]
  },
  {
   "cell_type": "markdown",
   "metadata": {},
   "source": [
    "## Generator\n",
    "\n",
    "Here you'll build the generator network. The input will be our noise vector `z` as before. Also as before, the output will be a $tanh$ output, but this time with size 32x32 which is the size of our SVHN images.\n",
    "\n",
    "What's new here is we'll use convolutional layers to create our new images. The first layer is a fully connected layer which is reshaped into a deep and narrow layer, something like 4x4x1024 as in the original DCGAN paper. Then we use batch normalization and a leaky ReLU activation. Next is a transposed convolution where typically you'd halve the depth and double the width and height of the previous layer. Again, we use batch normalization and leaky ReLU. For each of these layers, the general scheme is convolution > batch norm > leaky ReLU.\n",
    "\n",
    "You keep stacking layers up like this until you get the final transposed convolution layer with shape 32x32x3. Below is the archicture used in the original DCGAN paper:\n",
    "\n",
    "![DCGAN Generator](assets/dcgan.png)\n",
    "\n",
    "Note that the final layer here is 64x64x3, while for our SVHN dataset, we only want it to be 32x32x3. \n",
    "\n",
    ">**Exercise:** Build the transposed convolutional network for the generator in the function below. Be sure to use leaky ReLUs on all the layers except for the last tanh layer, as well as batch normalization on all the transposed convolutional layers except the last one."
   ]
  },
  {
   "cell_type": "code",
   "execution_count": 11,
   "metadata": {},
   "outputs": [],
   "source": [
    "def generator(z, output_dim, reuse=False, alpha=0.2, training=True):\n",
    "    # :param output_dim: The number of channels in the output image\n",
    "            \n",
    "    with tf.variable_scope('generator', reuse=reuse):        \n",
    "        # First fully connected layer\n",
    "        layer = tf.layers.dense(z, 4 * 4 * 512, activation=None, use_bias=False)\n",
    "        # 4*4*512\n",
    "        layer = tf.reshape(z, [-1, 4, 4, 512])  # the 1th dimension should be -1\n",
    "        layer = tf.layers.batch_normalization(layer, axis=-1, training=training)\n",
    "        layer = tf.maximum(alpha * layer, layer)\n",
    "        \n",
    "        # Output layer, 32x32x3        \n",
    "        # 8*8*256\n",
    "        layer = tf.layers.conv2d_transpose(layer, filters=256, kernel_size=5, strides=2, activation=None, use_bias=False, padding='same')\n",
    "        layer = tf.layers.batch_normalization(layer, axis=-1, training=training)        \n",
    "        layer = tf.maximum(alpha * layer, layer)\n",
    "        \n",
    "        # 16*16*128\n",
    "        layer = tf.layers.conv2d_transpose(layer, filters=128, kernel_size=5, strides=2, activation=None, use_bias=False, padding='same')\n",
    "        layer = tf.layers.batch_normalization(layer, axis=-1, training=training)        \n",
    "        layer = tf.maximum(alpha * layer, layer)\n",
    "\n",
    "        # 32*32*3\n",
    "        logits = tf.layers.conv2d_transpose(layer, filters=output_dim, kernel_size=5, strides=2, activation=None, use_bias=True, padding='same')\n",
    "        out = tf.tanh(logits)\n",
    "        \n",
    "        return out"
   ]
  },
  {
   "cell_type": "markdown",
   "metadata": {},
   "source": [
    "## Discriminator\n",
    "\n",
    "Here you'll build the discriminator. This is basically just a convolutional classifier like you've built before. The input to the discriminator are 32x32x3 tensors/images. You'll want a few convolutional layers, then a fully connected layer for the output. As before, we want a sigmoid output, and you'll need to return the logits as well. For the depths of the convolutional layers I suggest starting with 16, 32, 64 filters in the first layer, then double the depth as you add layers. Note that in the DCGAN paper, they did all the downsampling using only strided convolutional layers with no maxpool layers.\n",
    "\n",
    "You'll also want to use batch normalization with `tf.layers.batch_normalization` on each layer except the first convolutional and output layers. Again, each layer should look something like convolution > batch norm > leaky ReLU.\n",
    "\n",
    "Note: in this project, your batch normalization layers will always use batch statistics. (That is, always set `training` to `True`.) That's because we are only interested in using the discriminator to help train the generator. However, if you wanted to use the discriminator for inference later, then you would need to set the `training` parameter appropriately.\n",
    "\n",
    ">**Exercise:** Build the convolutional network for the discriminator. The input is a 32x32x3 images, the output is a sigmoid plus the logits. Again, use Leaky ReLU activations and batch normalization on all the layers except the first."
   ]
  },
  {
   "cell_type": "code",
   "execution_count": 12,
   "metadata": {},
   "outputs": [],
   "source": [
    "def discriminator(x, reuse=False, alpha=0.2, training=True):\n",
    "    with tf.variable_scope('discriminator', reuse=reuse):\n",
    "        # Input layer is 32x32x3        \n",
    "        # 16*16*64\n",
    "        layer = tf.layers.conv2d_transpose(x, filters=64, kernel_size=5, strides=2, activation=None, use_bias=True, padding='same')\n",
    "        layer = tf.maximum(alpha * layer, layer)        \n",
    "        \n",
    "        # 8*8*128\n",
    "        layer = tf.layers.conv2d_transpose(layer, filters=128, kernel_size=5, strides=2, activation=None, use_bias=False, padding='same')\n",
    "        layer = tf.layers.batch_normalization(layer, axis=-1, training=training)        \n",
    "        layer = tf.maximum(alpha * layer, layer)\n",
    "\n",
    "        # 4*4*256\n",
    "        layer = tf.layers.conv2d_transpose(layer, filters=256, kernel_size=5, strides=2, activation=None, use_bias=False, padding='same')\n",
    "        layer = tf.layers.batch_normalization(layer, axis=-1, training=training)        \n",
    "        layer = tf.maximum(alpha * layer, layer)\n",
    "        \n",
    "        layer = tf.reshape(layer, (-1, 4*4*256))                \n",
    "#         layer = tf.layers.flatten(layer)                \n",
    "        logits = tf.layers.dense(layer, 1, activation=None, use_bias=True)\n",
    "        out = tf.sigmoid(logits)\n",
    "                \n",
    "        return out, logits"
   ]
  },
  {
   "cell_type": "markdown",
   "metadata": {},
   "source": [
    "## Model Loss\n",
    "\n",
    "Calculating the loss like before, nothing new here."
   ]
  },
  {
   "cell_type": "code",
   "execution_count": 13,
   "metadata": {},
   "outputs": [],
   "source": [
    "def model_loss(input_real, input_z, output_dim, alpha=0.2):\n",
    "    \"\"\"\n",
    "    Get the loss for the discriminator and generator\n",
    "    :param input_real: Images from the real dataset\n",
    "    :param input_z: Z input\n",
    "    :param out_channel_dim: The number of channels in the output image\n",
    "    :return: A tuple of (discriminator loss, generator loss)\n",
    "    \"\"\"\n",
    "    g_model = generator(input_z, output_dim, alpha=alpha)\n",
    "    d_model_real, d_logits_real = discriminator(input_real, alpha=alpha)\n",
    "    d_model_fake, d_logits_fake = discriminator(g_model, reuse=True, alpha=alpha)\n",
    "\n",
    "    d_loss_real = tf.reduce_mean(\n",
    "        tf.nn.sigmoid_cross_entropy_with_logits(logits=d_logits_real, labels=tf.ones_like(d_model_real)))\n",
    "    d_loss_fake = tf.reduce_mean(\n",
    "        tf.nn.sigmoid_cross_entropy_with_logits(logits=d_logits_fake, labels=tf.zeros_like(d_model_fake)))\n",
    "    g_loss = tf.reduce_mean(\n",
    "        tf.nn.sigmoid_cross_entropy_with_logits(logits=d_logits_fake, labels=tf.ones_like(d_model_fake)))\n",
    "\n",
    "    d_loss = d_loss_real + d_loss_fake\n",
    "\n",
    "    return d_loss, g_loss"
   ]
  },
  {
   "cell_type": "markdown",
   "metadata": {},
   "source": [
    "## Optimizers\n",
    "\n",
    "Not much new here, but notice how the train operations are wrapped in a `with tf.control_dependencies` block so the batch normalization layers can update their population statistics."
   ]
  },
  {
   "cell_type": "code",
   "execution_count": 14,
   "metadata": {},
   "outputs": [],
   "source": [
    "def model_opt(d_loss, g_loss, learning_rate, beta1):\n",
    "    \"\"\"\n",
    "    Get optimization operations\n",
    "    :param d_loss: Discriminator loss Tensor\n",
    "    :param g_loss: Generator loss Tensor\n",
    "    :param learning_rate: Learning Rate Placeholder\n",
    "    :param beta1: The exponential decay rate for the 1st moment in the optimizer\n",
    "    :return: A tuple of (discriminator training operation, generator training operation)\n",
    "    \"\"\"\n",
    "    # Get weights and bias to update\n",
    "    t_vars = tf.trainable_variables()\n",
    "    d_vars = [var for var in t_vars if var.name.startswith('discriminator')]\n",
    "    g_vars = [var for var in t_vars if var.name.startswith('generator')]\n",
    "\n",
    "    # Optimize\n",
    "    with tf.control_dependencies(tf.get_collection(tf.GraphKeys.UPDATE_OPS)):\n",
    "        d_train_opt = tf.train.AdamOptimizer(learning_rate, beta1=beta1).minimize(d_loss, var_list=d_vars)\n",
    "        g_train_opt = tf.train.AdamOptimizer(learning_rate, beta1=beta1).minimize(g_loss, var_list=g_vars)\n",
    "\n",
    "    return d_train_opt, g_train_opt"
   ]
  },
  {
   "cell_type": "markdown",
   "metadata": {},
   "source": [
    "## Building the model\n",
    "\n",
    "Here we can use the functions we defined about to build the model as a class. This will make it easier to move the network around in our code since the nodes and operations in the graph are packaged in one object."
   ]
  },
  {
   "cell_type": "code",
   "execution_count": 15,
   "metadata": {},
   "outputs": [],
   "source": [
    "class GAN:\n",
    "    def __init__(self, real_size, z_size, learning_rate, alpha=0.2, beta1=0.5):\n",
    "        tf.reset_default_graph()\n",
    "        \n",
    "        self.input_real, self.input_z = model_inputs(real_size, z_size)\n",
    "        \n",
    "        self.d_loss, self.g_loss = model_loss(self.input_real, self.input_z,\n",
    "                                              real_size[2], alpha=alpha)\n",
    "        \n",
    "        self.d_opt, self.g_opt = model_opt(self.d_loss, self.g_loss, learning_rate, beta1)"
   ]
  },
  {
   "cell_type": "markdown",
   "metadata": {},
   "source": [
    "Here is a function for displaying generated images."
   ]
  },
  {
   "cell_type": "code",
   "execution_count": 16,
   "metadata": {},
   "outputs": [],
   "source": [
    "def view_samples(epoch, samples, nrows, ncols, figsize=(5,5)):\n",
    "    fig, axes = plt.subplots(figsize=figsize, nrows=nrows, ncols=ncols, \n",
    "                             sharey=True, sharex=True)\n",
    "    for ax, img in zip(axes.flatten(), samples[epoch]):\n",
    "        ax.axis('off')\n",
    "        img = ((img - img.min())*255 / (img.max() - img.min())).astype(np.uint8)\n",
    "        ax.set_adjustable('box-forced')\n",
    "        im = ax.imshow(img, aspect='equal')\n",
    "   \n",
    "    plt.subplots_adjust(wspace=0, hspace=0)\n",
    "    return fig, axes"
   ]
  },
  {
   "cell_type": "markdown",
   "metadata": {},
   "source": [
    "And another function we can use to train our network. Notice when we call `generator` to create the samples to display, we set `training` to `False`. That's so the batch normalization layers will use the population statistics rather than the batch statistics. Also notice that we set the `net.input_real` placeholder when we run the generator's optimizer. The generator doesn't actually use it, but we'd get an error without it because of the `tf.control_dependencies` block we created in `model_opt`. "
   ]
  },
  {
   "cell_type": "code",
   "execution_count": 20,
   "metadata": {},
   "outputs": [],
   "source": [
    "def train(net, dataset, epochs, batch_size, print_every=10, show_every=100, figsize=(5,5)):\n",
    "    saver = tf.train.Saver()\n",
    "    sample_z = np.random.uniform(-1, 1, size=(72, z_size))\n",
    "\n",
    "    samples, losses = [], []\n",
    "    steps = 0\n",
    "\n",
    "    with tf.Session() as sess:\n",
    "        sess.run(tf.global_variables_initializer())\n",
    "        for e in range(epochs):\n",
    "            for x, y in dataset.batches(batch_size):\n",
    "                steps += 1\n",
    "                print('epoch', e, 'steps', steps)\n",
    "                \n",
    "                # Sample random noise for G\n",
    "                batch_z = np.random.uniform(-1, 1, size=(batch_size, z_size))\n",
    "\n",
    "                # Run optimizers                \n",
    "                _ = sess.run(net.d_opt, feed_dict={net.input_real: x, net.input_z: batch_z})\n",
    "                _ = sess.run(net.g_opt, feed_dict={net.input_z: batch_z, net.input_real: x})\n",
    "\n",
    "                if steps % print_every == 0:\n",
    "                    # At the end of each epoch, get the losses and print them out\n",
    "                    train_loss_d = net.d_loss.eval({net.input_z: batch_z, net.input_real: x})\n",
    "                    train_loss_g = net.g_loss.eval({net.input_z: batch_z})\n",
    "\n",
    "                    print(\"Epoch {}/{}...\".format(e+1, epochs),\n",
    "                          \"Discriminator Loss: {:.4f}...\".format(train_loss_d),\n",
    "                          \"Generator Loss: {:.4f}\".format(train_loss_g))\n",
    "                    # Save losses to view after training\n",
    "                    losses.append((train_loss_d, train_loss_g))\n",
    "\n",
    "                if steps % show_every == 0:\n",
    "                    gen_samples = sess.run(\n",
    "                                   generator(net.input_z, 3, reuse=True, training=False),\n",
    "                                   feed_dict={net.input_z: sample_z})\n",
    "                    samples.append(gen_samples)\n",
    "                    _ = view_samples(-1, samples, 6, 12, figsize=figsize)\n",
    "                    plt.show()\n",
    "\n",
    "        saver.save(sess, './checkpoints/generator.ckpt')\n",
    "\n",
    "    with open('samples.pkl', 'wb') as f:\n",
    "        pkl.dump(samples, f)\n",
    "    \n",
    "    return losses, samples"
   ]
  },
  {
   "cell_type": "markdown",
   "metadata": {},
   "source": [
    "## Hyperparameters\n",
    "\n",
    "GANs are very sensitive to hyperparameters. A lot of experimentation goes into finding the best hyperparameters such that the generator and discriminator don't overpower each other. Try out your own hyperparameters or read [the DCGAN paper](https://arxiv.org/pdf/1511.06434.pdf) to see what worked for them.\n",
    "\n",
    ">**Exercise:** Find hyperparameters to train this GAN. The values found in the DCGAN paper work well, or you can experiment on your own. In general, you want the discriminator loss to be around 0.3, this means it is correctly classifying images as fake or real about 50% of the time. You want the generator loss to be around 2 or 3."
   ]
  },
  {
   "cell_type": "code",
   "execution_count": 21,
   "metadata": {},
   "outputs": [],
   "source": [
    "# Load the data and train the network here\n",
    "dataset = Dataset(trainset, testset)"
   ]
  },
  {
   "cell_type": "code",
   "execution_count": null,
   "metadata": {},
   "outputs": [
    {
     "name": "stdout",
     "output_type": "stream",
     "text": [
      "epoch 0 steps 1\n"
     ]
    }
   ],
   "source": [
    "real_size = (32,32,3)\n",
    "\n",
    "z_size = 100\n",
    "\n",
    "learning_rate = 0.001\n",
    "\n",
    "epochs = 1\n",
    "batch_size = 64\n",
    "alpha = 0.01\n",
    "beta1 = 0.9\n",
    "\n",
    "# Create the network\n",
    "net = GAN(real_size, z_size, learning_rate, alpha=alpha, beta1=beta1)\n",
    "\n",
    "\n",
    "losses, samples = train(net, dataset, epochs, batch_size, figsize=(10,5))"
   ]
  },
  {
   "cell_type": "code",
   "execution_count": null,
   "metadata": {},
   "outputs": [],
   "source": [
    "fig, ax = plt.subplots()\n",
    "losses = np.array(losses)\n",
    "plt.plot(losses.T[0], label='Discriminator', alpha=0.5)\n",
    "plt.plot(losses.T[1], label='Generator', alpha=0.5)\n",
    "plt.title(\"Training Losses\")\n",
    "plt.legend()"
   ]
  },
  {
   "cell_type": "code",
   "execution_count": null,
   "metadata": {
    "scrolled": true
   },
   "outputs": [],
   "source": [
    "_ = view_samples(-1, samples, 6, 12, figsize=(10,5))"
   ]
  }
 ],
 "metadata": {
  "kernelspec": {
   "display_name": "Python 3",
   "language": "python",
   "name": "python3"
  },
  "language_info": {
   "codemirror_mode": {
    "name": "ipython",
    "version": 3
   },
   "file_extension": ".py",
   "mimetype": "text/x-python",
   "name": "python",
   "nbconvert_exporter": "python",
   "pygments_lexer": "ipython3",
   "version": "3.6.4"
  }
 },
 "nbformat": 4,
 "nbformat_minor": 2
}
