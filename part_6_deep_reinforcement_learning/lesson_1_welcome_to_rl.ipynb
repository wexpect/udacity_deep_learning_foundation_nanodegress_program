{
 "cells": [
  {
   "cell_type": "code",
   "execution_count": 1,
   "metadata": {},
   "outputs": [
    {
     "name": "stdout",
     "output_type": "stream",
     "text": [
      "\n",
      "\u001b[41mS\u001b[0mFFF\n",
      "FHFH\n",
      "FFFH\n",
      "HFFG\n"
     ]
    }
   ],
   "source": [
    "import gym\n",
    "env = gym.make('FrozenLake-v0')\n",
    "env.reset()\n",
    "env.render()\n",
    "env.close()"
   ]
  },
  {
   "cell_type": "code",
   "execution_count": 11,
   "metadata": {},
   "outputs": [
    {
     "name": "stdout",
     "output_type": "stream",
     "text": [
      "INFO: Making new env: CartPole-v0\n",
      "\u001b[33mWARN: gym.spaces.Box autodetected dtype as <class 'numpy.float32'>. Please provide explicit dtype.\u001b[0m\n"
     ]
    }
   ],
   "source": [
    "import time\n",
    "import gym\n",
    "\n",
    "env = gym.make('CartPole-v0')\n",
    "env.reset()\n",
    "env.render()\n",
    "\n",
    "time.sleep(2)\n",
    "env.close()"
   ]
  },
  {
   "cell_type": "code",
   "execution_count": 8,
   "metadata": {},
   "outputs": [],
   "source": [
    "# env.close()"
   ]
  },
  {
   "cell_type": "code",
   "execution_count": 9,
   "metadata": {},
   "outputs": [
    {
     "name": "stdout",
     "output_type": "stream",
     "text": [
      "INFO: Making new env: CartPole-v0\n",
      "\u001b[33mWARN: gym.spaces.Box autodetected dtype as <class 'numpy.float32'>. Please provide explicit dtype.\u001b[0m\n",
      "DEBUG: Writing training manifest file to /tmp/random-agent-results/openaigym.manifest.1.30444.manifest.json\n",
      "INFO: Finished writing results. You can upload them to the scoreboard via gym.upload('/tmp/random-agent-results')\n",
      "INFO: Clearing 22 monitor files from previous run (because force=True was provided)\n",
      "step 1\n",
      "step 2\n",
      "INFO: Starting new video recorder writing to /tmp/random-agent-results/openaigym.video.2.30444.video000000.mp4\n",
      "DEBUG: Capturing video frame: path=/tmp/random-agent-results/openaigym.video.2.30444.video000000.mp4\n",
      "DEBUG: Starting ffmpeg with \"ffmpeg -nostats -loglevel error -y -r 50 -f rawvideo -s:v 1200x800 -pix_fmt rgb24 -i - -vcodec libx264 -pix_fmt yuv420p /tmp/random-agent-results/openaigym.video.2.30444.video000000.mp4\"\n",
      "DEBUG: Closing video encoder: path=/tmp/random-agent-results/openaigym.video.2.30444.video000000.mp4\n",
      "INFO: Starting new video recorder writing to /tmp/random-agent-results/openaigym.video.2.30444.video000001.mp4\n",
      "DEBUG: Capturing video frame: path=/tmp/random-agent-results/openaigym.video.2.30444.video000001.mp4\n",
      "DEBUG: Starting ffmpeg with \"ffmpeg -nostats -loglevel error -y -r 50 -f rawvideo -s:v 1200x800 -pix_fmt rgb24 -i - -vcodec libx264 -pix_fmt yuv420p /tmp/random-agent-results/openaigym.video.2.30444.video000001.mp4\"\n",
      "DEBUG: Closing video encoder: path=/tmp/random-agent-results/openaigym.video.2.30444.video000001.mp4\n",
      "INFO: Starting new video recorder writing to /tmp/random-agent-results/openaigym.video.2.30444.video000008.mp4\n",
      "DEBUG: Capturing video frame: path=/tmp/random-agent-results/openaigym.video.2.30444.video000008.mp4\n",
      "DEBUG: Starting ffmpeg with \"ffmpeg -nostats -loglevel error -y -r 50 -f rawvideo -s:v 1200x800 -pix_fmt rgb24 -i - -vcodec libx264 -pix_fmt yuv420p /tmp/random-agent-results/openaigym.video.2.30444.video000008.mp4\"\n",
      "DEBUG: Closing video encoder: path=/tmp/random-agent-results/openaigym.video.2.30444.video000008.mp4\n",
      "INFO: Starting new video recorder writing to /tmp/random-agent-results/openaigym.video.2.30444.video000027.mp4\n",
      "DEBUG: Capturing video frame: path=/tmp/random-agent-results/openaigym.video.2.30444.video000027.mp4\n",
      "DEBUG: Starting ffmpeg with \"ffmpeg -nostats -loglevel error -y -r 50 -f rawvideo -s:v 1200x800 -pix_fmt rgb24 -i - -vcodec libx264 -pix_fmt yuv420p /tmp/random-agent-results/openaigym.video.2.30444.video000027.mp4\"\n",
      "DEBUG: Closing video encoder: path=/tmp/random-agent-results/openaigym.video.2.30444.video000027.mp4\n",
      "INFO: Starting new video recorder writing to /tmp/random-agent-results/openaigym.video.2.30444.video000064.mp4\n",
      "DEBUG: Capturing video frame: path=/tmp/random-agent-results/openaigym.video.2.30444.video000064.mp4\n",
      "DEBUG: Starting ffmpeg with \"ffmpeg -nostats -loglevel error -y -r 50 -f rawvideo -s:v 1200x800 -pix_fmt rgb24 -i - -vcodec libx264 -pix_fmt yuv420p /tmp/random-agent-results/openaigym.video.2.30444.video000064.mp4\"\n",
      "DEBUG: Closing video encoder: path=/tmp/random-agent-results/openaigym.video.2.30444.video000064.mp4\n",
      "INFO: Starting new video recorder writing to /tmp/random-agent-results/openaigym.video.2.30444.video000125.mp4\n",
      "DEBUG: Capturing video frame: path=/tmp/random-agent-results/openaigym.video.2.30444.video000125.mp4\n",
      "DEBUG: Starting ffmpeg with \"ffmpeg -nostats -loglevel error -y -r 50 -f rawvideo -s:v 1200x800 -pix_fmt rgb24 -i - -vcodec libx264 -pix_fmt yuv420p /tmp/random-agent-results/openaigym.video.2.30444.video000125.mp4\"\n",
      "DEBUG: Closing video encoder: path=/tmp/random-agent-results/openaigym.video.2.30444.video000125.mp4\n",
      "INFO: Starting new video recorder writing to /tmp/random-agent-results/openaigym.video.2.30444.video000216.mp4\n",
      "DEBUG: Capturing video frame: path=/tmp/random-agent-results/openaigym.video.2.30444.video000216.mp4\n",
      "DEBUG: Starting ffmpeg with \"ffmpeg -nostats -loglevel error -y -r 50 -f rawvideo -s:v 1200x800 -pix_fmt rgb24 -i - -vcodec libx264 -pix_fmt yuv420p /tmp/random-agent-results/openaigym.video.2.30444.video000216.mp4\"\n",
      "DEBUG: Closing video encoder: path=/tmp/random-agent-results/openaigym.video.2.30444.video000216.mp4\n",
      "INFO: Starting new video recorder writing to /tmp/random-agent-results/openaigym.video.2.30444.video000343.mp4\n",
      "DEBUG: Capturing video frame: path=/tmp/random-agent-results/openaigym.video.2.30444.video000343.mp4\n",
      "DEBUG: Starting ffmpeg with \"ffmpeg -nostats -loglevel error -y -r 50 -f rawvideo -s:v 1200x800 -pix_fmt rgb24 -i - -vcodec libx264 -pix_fmt yuv420p /tmp/random-agent-results/openaigym.video.2.30444.video000343.mp4\"\n",
      "DEBUG: Closing video encoder: path=/tmp/random-agent-results/openaigym.video.2.30444.video000343.mp4\n",
      "INFO: Starting new video recorder writing to /tmp/random-agent-results/openaigym.video.2.30444.video000512.mp4\n",
      "DEBUG: Capturing video frame: path=/tmp/random-agent-results/openaigym.video.2.30444.video000512.mp4\n",
      "DEBUG: Starting ffmpeg with \"ffmpeg -nostats -loglevel error -y -r 50 -f rawvideo -s:v 1200x800 -pix_fmt rgb24 -i - -vcodec libx264 -pix_fmt yuv420p /tmp/random-agent-results/openaigym.video.2.30444.video000512.mp4\"\n",
      "DEBUG: Closing video encoder: path=/tmp/random-agent-results/openaigym.video.2.30444.video000512.mp4\n",
      "INFO: Starting new video recorder writing to /tmp/random-agent-results/openaigym.video.2.30444.video000729.mp4\n",
      "DEBUG: Capturing video frame: path=/tmp/random-agent-results/openaigym.video.2.30444.video000729.mp4\n",
      "DEBUG: Starting ffmpeg with \"ffmpeg -nostats -loglevel error -y -r 50 -f rawvideo -s:v 1200x800 -pix_fmt rgb24 -i - -vcodec libx264 -pix_fmt yuv420p /tmp/random-agent-results/openaigym.video.2.30444.video000729.mp4\"\n",
      "DEBUG: Closing video encoder: path=/tmp/random-agent-results/openaigym.video.2.30444.video000729.mp4\n",
      "step 5\n"
     ]
    }
   ],
   "source": [
    "# https://github.com/openai/gym/issues/893\n",
    "# https://github.com/openai/gym/issues/35\n",
    "# https://github.com/openai/gym/issues/3    \n",
    "    \n",
    "import argparse\n",
    "import sys\n",
    "\n",
    "import gym\n",
    "from gym import wrappers, logger\n",
    "\n",
    "class RandomAgent(object):\n",
    "    \"\"\"The world's simplest agent!\"\"\"\n",
    "    def __init__(self, action_space):\n",
    "        self.action_space = action_space\n",
    "\n",
    "    def act(self, observation, reward, done):\n",
    "        return self.action_space.sample()\n",
    "\n",
    "    \n",
    "env_id = 'CartPole-v0'\n",
    "\n",
    "# You can set the level to logger.DEBUG or logger.WARN if you\n",
    "# want to change the amount of output.\n",
    "logger.set_level(logger.INFO)\n",
    "\n",
    "env = gym.make(env_id)\n",
    "\n",
    "# You provide the directory to write to (can be an existing\n",
    "# directory, including one with existing data -- all monitor files\n",
    "# will be namespaced). You can also dump to a tempdir if you'd\n",
    "# like: tempfile.mkdtemp().\n",
    "outdir = '/tmp/random-agent-results'\n",
    "env = wrappers.Monitor(env, directory=outdir, force=True)\n",
    "\n",
    "print('step 1')\n",
    "\n",
    "env.seed(0)\n",
    "agent = RandomAgent(env.action_space)\n",
    "\n",
    "print('step 2')\n",
    "\n",
    "episode_count = 1000\n",
    "reward = 0\n",
    "done = False\n",
    "\n",
    "for i in range(episode_count):\n",
    "    ob = env.reset()\n",
    "    while True:\n",
    "        action = agent.act(ob, reward, done)\n",
    "#         ob, reward, done, _ = env.step(action)\n",
    "        ob, reward, done, _ = env.env.step(action)\n",
    "        if done:\n",
    "            break\n",
    "        # Note there's no env.render() here. But the environment still can open window and\n",
    "        # render if asked by env.monitor: it calls env.render('rgb_array') to record video.\n",
    "        # Video is not recorded every episode, see capped_cubic_video_schedule for details.\n",
    "\n",
    "print('step 5')        \n",
    "        \n",
    "# Close the env and write monitor result info to disk\n",
    "# env.close()\n",
    "env.env.close()\n"
   ]
  }
 ],
 "metadata": {
  "kernelspec": {
   "display_name": "Python 3",
   "language": "python",
   "name": "python3"
  },
  "language_info": {
   "codemirror_mode": {
    "name": "ipython",
    "version": 3
   },
   "file_extension": ".py",
   "mimetype": "text/x-python",
   "name": "python",
   "nbconvert_exporter": "python",
   "pygments_lexer": "ipython3",
   "version": "3.6.4"
  }
 },
 "nbformat": 4,
 "nbformat_minor": 2
}
