{
 "cells": [
  {
   "cell_type": "code",
   "execution_count": 1,
   "metadata": {},
   "outputs": [
    {
     "name": "stdout",
     "output_type": "stream",
     "text": [
      "x: [ 1.  1.  1.  1.  1.  1.  1.  1.  1.  1. 10. 10. 10. 10. 10. 10. 10. 10.\n",
      " 10. 10.]\n",
      "The running_mean function returns: 5.5\n",
      "The forgetful_mean function returns:\n",
      "1.0427 (alpha=0.01)\n",
      "1.9787 (alpha=0.02)\n",
      "2.8194 (alpha=0.03)\n",
      "3.5745 (alpha=0.04)\n",
      "4.2529 (alpha=0.05)\n",
      "4.8624 (alpha=0.06)\n",
      "5.4099 (alpha=0.07)\n",
      "5.9018 (alpha=0.08)\n",
      "6.3436 (alpha=0.09)\n",
      "6.7403 (alpha=0.1)\n",
      "7.0964 (alpha=0.11)\n",
      "7.4159 (alpha=0.12)\n",
      "7.7025 (alpha=0.13)\n",
      "7.9593 (alpha=0.14)\n",
      "8.1894 (alpha=0.15)\n",
      "8.3953 (alpha=0.16)\n",
      "8.5795 (alpha=0.17)\n",
      "8.7441 (alpha=0.18)\n",
      "8.891 (alpha=0.19)\n",
      "9.0221 (alpha=0.2)\n",
      "9.1389 (alpha=0.21)\n",
      "9.2428 (alpha=0.22)\n",
      "9.3352 (alpha=0.23)\n",
      "9.4173 (alpha=0.24)\n",
      "9.49 (alpha=0.25)\n",
      "9.5544 (alpha=0.26)\n",
      "9.6114 (alpha=0.27)\n",
      "9.6616 (alpha=0.28)\n",
      "9.706 (alpha=0.29)\n",
      "9.745 (alpha=0.3)\n"
     ]
    }
   ],
   "source": [
    "import numpy as np\n",
    "\n",
    "# This is the sequence (corresponding to successively sampled returns). \n",
    "# Feel free to change it!\n",
    "x = np.hstack((np.ones(10), 10*np.ones(10)))\n",
    "\n",
    "# These are the different step sizes alpha that we will test.  \n",
    "# Feel free to change it!\n",
    "alpha_values = np.arange(0,.3,.01)+.01\n",
    "\n",
    "#########################################################\n",
    "# Please do not change any of the code below this line. #\n",
    "#########################################################\n",
    "\n",
    "def running_mean(x):\n",
    "    mu = 0\n",
    "    mean_values = []\n",
    "    for k in np.arange(0, len(x)):\n",
    "        mu = mu + (1.0/(k+1))*(x[k] - mu)\n",
    "        mean_values.append(mu)\n",
    "    return mean_values\n",
    "    \n",
    "def forgetful_mean(x, alpha):\n",
    "    mu = 0\n",
    "    mean_values = []\n",
    "    for k in np.arange(0, len(x)):\n",
    "        mu = mu + alpha*(x[k] - mu)\n",
    "        mean_values.append(mu)\n",
    "    return mean_values\n",
    "\n",
    "def print_results():\n",
    "    \"\"\"\n",
    "    prints the mean of the sequence \"x\" (as calculated by the\n",
    "    running_mean function), along with analogous results for each value of alpha \n",
    "    in \"alpha_values\" (as calculated by the forgetful_mean function).\n",
    "    \"\"\"\n",
    "    print('x:',x)\n",
    "    print('The running_mean function returns:', running_mean(x)[-1])\n",
    "    print('The forgetful_mean function returns:')\n",
    "    for alpha in alpha_values:\n",
    "        print(np.round(forgetful_mean(x, alpha)[-1],4), \\\n",
    "        '(alpha={})'.format(np.round(alpha,2)))\n",
    "\n",
    "print_results()        "
   ]
  },
  {
   "cell_type": "code",
   "execution_count": null,
   "metadata": {},
   "outputs": [],
   "source": []
  }
 ],
 "metadata": {
  "kernelspec": {
   "display_name": "Python 3",
   "language": "python",
   "name": "python3"
  },
  "language_info": {
   "codemirror_mode": {
    "name": "ipython",
    "version": 3
   },
   "file_extension": ".py",
   "mimetype": "text/x-python",
   "name": "python",
   "nbconvert_exporter": "python",
   "pygments_lexer": "ipython3",
   "version": "3.6.4"
  }
 },
 "nbformat": 4,
 "nbformat_minor": 2
}
